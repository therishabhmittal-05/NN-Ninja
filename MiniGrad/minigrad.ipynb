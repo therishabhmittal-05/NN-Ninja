{
  "nbformat": 4,
  "nbformat_minor": 0,
  "metadata": {
    "colab": {
      "provenance": [],
      "authorship_tag": "ABX9TyMQ+SYJXgvdB0IAarbMKm8L",
      "include_colab_link": true
    },
    "kernelspec": {
      "name": "python3",
      "display_name": "Python 3"
    },
    "language_info": {
      "name": "python"
    }
  },
  "cells": [
    {
      "cell_type": "markdown",
      "metadata": {
        "id": "view-in-github",
        "colab_type": "text"
      },
      "source": [
        "<a href=\"https://colab.research.google.com/github/therishabhmittal-05/NN-Ninja/blob/main/MiniGrad/minigrad.ipynb\" target=\"_parent\"><img src=\"https://colab.research.google.com/assets/colab-badge.svg\" alt=\"Open In Colab\"/></a>"
      ]
    },
    {
      "cell_type": "markdown",
      "source": [
        "## minigrad is Scaler Value Autograd Engine"
      ],
      "metadata": {
        "id": "tZgYD2rOtKc6"
      }
    },
    {
      "cell_type": "code",
      "execution_count": 3,
      "metadata": {
        "id": "jg0XQPrzBCtm"
      },
      "outputs": [],
      "source": [
        "import numpy as np\n",
        "import matplotlib.pyplot as plt\n",
        "import math"
      ]
    },
    {
      "cell_type": "code",
      "source": [
        "def f(x):\n",
        "  return 3*x**2 + 4*x + 2"
      ],
      "metadata": {
        "id": "h9zLN9fIBhmq"
      },
      "execution_count": 4,
      "outputs": []
    },
    {
      "cell_type": "code",
      "source": [
        "f(3.0)"
      ],
      "metadata": {
        "colab": {
          "base_uri": "https://localhost:8080/"
        },
        "id": "D1vuVVXlBn9f",
        "outputId": "6957ef03-2195-4a0d-87ff-799ae44a7b9a"
      },
      "execution_count": 5,
      "outputs": [
        {
          "output_type": "execute_result",
          "data": {
            "text/plain": [
              "41.0"
            ]
          },
          "metadata": {},
          "execution_count": 5
        }
      ]
    },
    {
      "cell_type": "code",
      "source": [
        "xs = np.arange(-5, 5, 0.25)\n",
        "ys = f(xs)\n",
        "ys"
      ],
      "metadata": {
        "colab": {
          "base_uri": "https://localhost:8080/"
        },
        "id": "Il53a7YhBpDR",
        "outputId": "ab989586-bda6-4f50-d9e8-755a07bad041"
      },
      "execution_count": 6,
      "outputs": [
        {
          "output_type": "execute_result",
          "data": {
            "text/plain": [
              "array([57.    , 50.6875, 44.75  , 39.1875, 34.    , 29.1875, 24.75  ,\n",
              "       20.6875, 17.    , 13.6875, 10.75  ,  8.1875,  6.    ,  4.1875,\n",
              "        2.75  ,  1.6875,  1.    ,  0.6875,  0.75  ,  1.1875,  2.    ,\n",
              "        3.1875,  4.75  ,  6.6875,  9.    , 11.6875, 14.75  , 18.1875,\n",
              "       22.    , 26.1875, 30.75  , 35.6875, 41.    , 46.6875, 52.75  ,\n",
              "       59.1875, 66.    , 73.1875, 80.75  , 88.6875])"
            ]
          },
          "metadata": {},
          "execution_count": 6
        }
      ]
    },
    {
      "cell_type": "code",
      "source": [
        "plt.plot(xs, ys)\n",
        "plt.show()"
      ],
      "metadata": {
        "colab": {
          "base_uri": "https://localhost:8080/",
          "height": 430
        },
        "id": "eDfli5tLB11Q",
        "outputId": "59f614f9-9bdc-4113-fa8e-858171310138"
      },
      "execution_count": 7,
      "outputs": [
        {
          "output_type": "display_data",
          "data": {
            "text/plain": [
              "<Figure size 640x480 with 1 Axes>"
            ],
            "image/png": "[encoded data removed]"
          },
          "metadata": {}
        }
      ]
    },
    {
      "cell_type": "code",
      "source": [
        "h = 0.00001\n",
        "x = 3.0\n",
        "(f(x+h)-f(x))/h"
      ],
      "metadata": {
        "colab": {
          "base_uri": "https://localhost:8080/"
        },
        "id": "TNMt5-FoCAae",
        "outputId": "d5fc4868-5ee3-4f44-9222-edce0008833d"
      },
      "execution_count": 8,
      "outputs": [
        {
          "output_type": "execute_result",
          "data": {
            "text/plain": [
              "22.000029999702516"
            ]
          },
          "metadata": {},
          "execution_count": 8
        }
      ]
    },
    {
      "cell_type": "code",
      "source": [
        "a = 2.0\n",
        "b = 3.0\n",
        "c = 0.1\n",
        "d = a*b + c\n",
        "print(d)"
      ],
      "metadata": {
        "colab": {
          "base_uri": "https://localhost:8080/"
        },
        "id": "6i6rPAqECpoB",
        "outputId": "fda1587c-e894-4aea-b0f6-abc1da7d4b14"
      },
      "execution_count": 9,
      "outputs": [
        {
          "output_type": "stream",
          "name": "stdout",
          "text": [
            "6.1\n"
          ]
        }
      ]
    },
    {
      "cell_type": "code",
      "source": [
        "h = 0.0001\n",
        "a = 2.0\n",
        "b = 3.0\n",
        "c = 0.1\n",
        "\n",
        "d1 = a*b + c\n",
        "print('d1', d1)\n",
        "\n",
        "c += h\n",
        "d2 = a*b+c\n",
        "print('d2', d2)\n",
        "print('slope', (d2-d1)/h)"
      ],
      "metadata": {
        "colab": {
          "base_uri": "https://localhost:8080/"
        },
        "id": "GEH8Gf-BDqrw",
        "outputId": "50334d9d-668e-4195-fdc5-d4274d7251d7"
      },
      "execution_count": 10,
      "outputs": [
        {
          "output_type": "stream",
          "name": "stdout",
          "text": [
            "d1 6.1\n",
            "d2 6.1001\n",
            "slope 1.0000000000065512\n"
          ]
        }
      ]
    },
    {
      "cell_type": "code",
      "source": [
        "class Value:\n",
        "  def __init__(self, data, _children=(), _op=\"\", label=\"\"):\n",
        "    self.data = data\n",
        "    self._prev = set(_children)\n",
        "    self._op = _op\n",
        "    self.grad = 0\n",
        "    self.label = label\n",
        "    self._backward =  lambda: None\n",
        "\n",
        "  def __repr__(self):\n",
        "    return f\"Value(data = {self.data})\"\n",
        "\n",
        "\n",
        "  def __add__(self, other ):\n",
        "    other = other if isinstance(other, Value) else Value(other)\n",
        "    out = Value(self.data + other.data, (self, other), '+')\n",
        "    def _backward():\n",
        "      self.grad += 1 * out.grad\n",
        "      other.grad += 1 * out.grad\n",
        "    out._backward = _backward\n",
        "    return out\n",
        "\n",
        "  def __neg__(self):\n",
        "    return self * -1\n",
        "\n",
        "  def __sub__(self, other):\n",
        "    return self + (-other)\n",
        "\n",
        "  def __mul__(self, other):\n",
        "    other = other if isinstance(other, Value) else Value(other)\n",
        "    out = Value(self.data * other.data, (self, other), '*')\n",
        "    def _backward():\n",
        "      self.grad += other.data * out.grad\n",
        "      other.grad += self.data * out.grad\n",
        "    out._backward = _backward\n",
        "    return out\n",
        "\n",
        "  def __rmul__(self, other):\n",
        "    return self * other\n",
        "\n",
        "  def __pow__(self, other):\n",
        "    assert isinstance(other, (int, float))\n",
        "    out = Value(self.data**other, (self,), f\"**{other}\")\n",
        "    def _backward():\n",
        "      self.grad += (other * self.data**(other-1))* out.grad\n",
        "    out._backward = _backward\n",
        "    return out\n",
        "\n",
        "  def __truediv__(self, other):\n",
        "    return self * other ** -1\n",
        "\n",
        "  def exp(self):\n",
        "    out = Value(math.exp(self.data), (self,), 'exp')\n",
        "    def _backward():\n",
        "      self.grad += out.data * out.grad\n",
        "    out._backward = _backward\n",
        "    return out\n",
        "\n",
        "  def tanh(self):\n",
        "    x = self.data\n",
        "    t = (math.exp(2*x)-1)/(math.exp(2*x)+1)\n",
        "    out = Value(t, (self,), 'tanh')\n",
        "    def _backward():\n",
        "      self.grad += (1-t**2) * out.grad\n",
        "    out._backward = _backward\n",
        "    return out\n",
        "\n",
        "  def backward(self):\n",
        "    topo = []\n",
        "    visited = set()\n",
        "    def build_topo(v):\n",
        "      if v not in visited:\n",
        "        visited.add(v)\n",
        "        for child in v._prev:\n",
        "          build_topo(child)\n",
        "        topo.append(v)\n",
        "    build_topo(self)\n",
        "\n",
        "    self.grad = 1.0\n",
        "    for node in reversed(topo):\n",
        "      node._backward()"
      ],
      "metadata": {
        "id": "EjMmdmpXtdU6"
      },
      "execution_count": 140,
      "outputs": []
    },
    {
      "cell_type": "code",
      "source": [
        "a = Value(2.0, label = 'a')\n",
        "2*a"
      ],
      "metadata": {
        "colab": {
          "base_uri": "https://localhost:8080/"
        },
        "id": "HzzQq7ZRrCpK",
        "outputId": "bb6d6ca5-d9d7-41ae-fcf3-a557101b1a7d"
      },
      "execution_count": 141,
      "outputs": [
        {
          "output_type": "execute_result",
          "data": {
            "text/plain": [
              "Value(data = 4.0)"
            ]
          },
          "metadata": {},
          "execution_count": 141
        }
      ]
    },
    {
      "cell_type": "code",
      "source": [
        "from graphviz import Digraph\n",
        "def trace(root):\n",
        "  nodes, edges = set(), set()\n",
        "  def build(v):\n",
        "    if v not in nodes:\n",
        "      nodes.add(v)\n",
        "      for child in v._prev:\n",
        "        edges.add((child, v))\n",
        "        build(child)\n",
        "  build(root)\n",
        "  return nodes, edges\n",
        "\n",
        "\n",
        "def draw_dot(root, format='svg', rankdir='LR'):\n",
        "  assert rankdir in ['LR', 'TB']\n",
        "  nodes, edges = trace(root)\n",
        "  dot = Digraph(format=format, graph_attr={'rankdir': rankdir})\n",
        "\n",
        "  for n in nodes:\n",
        "    dot.node(name=str(id(n)), label=\"{%s | data %.4f | grad %.4f}\" % (n.label, n.data, n.grad), shape='record')\n",
        "    if n._op:\n",
        "      dot.node(name=str(id(n)) + n._op, label=n._op)\n",
        "      dot.edge(str(id(n))+n._op, str(id(n)))\n",
        "  for n1, n2 in edges:\n",
        "    dot.edge(str(id(n1)), str(id(n2)) + n2._op)\n",
        "  return dot"
      ],
      "metadata": {
        "id": "BGmFXm84GA8K"
      },
      "execution_count": 87,
      "outputs": []
    },
    {
      "cell_type": "code",
      "source": [
        "plt.plot(np.arange(-5.0, 5.0, 0.25), np.tanh(np.arange(-5.0, 5.0, 0.25))); plt.grid()"
      ],
      "metadata": {
        "colab": {
          "base_uri": "https://localhost:8080/",
          "height": 430
        },
        "id": "DIIrtm__QmAV",
        "outputId": "71728325-9882-4f95-cf2b-e73bad7854d5"
      },
      "execution_count": 65,
      "outputs": [
        {
          "output_type": "display_data",
          "data": {
            "text/plain": [
              "<Figure size 640x480 with 1 Axes>"
            ],
            "image/png": "[encoded data removed]"
          },
          "metadata": {}
        }
      ]
    },
    {
      "cell_type": "code",
      "source": [
        "x1 = Value(2.0, label = 'x1')\n",
        "x2 = Value(0.0, label = 'x2')\n",
        "\n",
        "w1 = Value(-3.0, label = 'w1')\n",
        "w2 = Value(1.0, label = 'w2')\n",
        "\n",
        "b = Value(6.8813735870195432, label = 'b')\n",
        "\n",
        "x1w1 = x1*w1; x1w1.label = 'x1w1'\n",
        "x2w2 = x2*w2; x2w2.label = 'x2w2'\n",
        "\n",
        "x1w1x2w2 = x1w1 + x2w2; x1w1x2w2.label = 'x1w1x2w2'\n",
        "n = x1w1x2w2 + b; n.label = 'n'\n",
        "o = n.tanh(); o.label = 'o'"
      ],
      "metadata": {
        "id": "dd2Xd4Pebtxc"
      },
      "execution_count": 119,
      "outputs": []
    },
    {
      "cell_type": "code",
      "source": [
        "draw_dot(o)"
      ],
      "metadata": {
        "colab": {
          "base_uri": "https://localhost:8080/",
          "height": 322
        },
        "id": "tdUovMSDcK_L",
        "outputId": "d2599a88-48e2-4fbd-f55f-f625c67595e4"
      },
      "execution_count": 122,
      "outputs": [
        {
          "output_type": "execute_result",
          "data": {
            "image/svg+xml": "<?xml version=\"1.0\" encoding=\"UTF-8\" standalone=\"no\"?>\n<!DOCTYPE svg PUBLIC \"-//W3C//DTD SVG 1.1//EN\"\n \"http://www.w3.org/Graphics/SVG/1.1/DTD/svg11.dtd\">\n<!-- Generated by graphviz version 2.43.0 (0)\n -->\n<!-- Title: %3 Pages: 1 -->\n<svg width=\"1540pt\" height=\"210pt\"\n viewBox=\"0.00 0.00 1540.00 210.00\" xmlns=\"http://www.w3.org/2000/svg\" xmlns:xlink=\"http://www.w3.org/1999/xlink\">\n<g id=\"graph0\" class=\"graph\" transform=\"scale(1 1) rotate(0) translate(4 206)\">\n<title>%3</title>\n<polygon fill=\"white\" stroke=\"transparent\" points=\"-4,4 -4,-206 1536,-206 1536,4 -4,4\"/>\n<!-- 132102980685840 -->\n<g id=\"node1\" class=\"node\">\n<title>132102980685840</title>\n<polygon fill=\"none\" stroke=\"black\" points=\"1347,-109.5 1347,-145.5 1532,-145.5 1532,-109.5 1347,-109.5\"/>\n<text text-anchor=\"middle\" x=\"1358.5\" y=\"-123.8\" font-family=\"Times,serif\" font-size=\"14.00\">o</text>\n<polyline fill=\"none\" stroke=\"black\" points=\"1370,-109.5 1370,-145.5 \"/>\n<text text-anchor=\"middle\" x=\"1410\" y=\"-123.8\" font-family=\"Times,serif\" font-size=\"14.00\">data 0.7071</text>\n<polyline fill=\"none\" stroke=\"black\" points=\"1450,-109.5 1450,-145.5 \"/>\n<text text-anchor=\"middle\" x=\"1491\" y=\"-123.8\" font-family=\"Times,serif\" font-size=\"14.00\">grad 1.0000</text>\n</g>\n<!-- 132102980685840tanh -->\n<g id=\"node2\" class=\"node\">\n<title>132102980685840tanh</title>\n<ellipse fill=\"none\" stroke=\"black\" cx=\"1284\" cy=\"-127.5\" rx=\"27\" ry=\"18\"/>\n<text text-anchor=\"middle\" x=\"1284\" y=\"-123.8\" font-family=\"Times,serif\" font-size=\"14.00\">tanh</text>\n</g>\n<!-- 132102980685840tanh&#45;&gt;132102980685840 -->\n<g id=\"edge1\" class=\"edge\">\n<title>132102980685840tanh&#45;&gt;132102980685840</title>\n<path fill=\"none\" stroke=\"black\" d=\"M1311.04,-127.5C1318.58,-127.5 1327.3,-127.5 1336.57,-127.5\"/>\n<polygon fill=\"black\" stroke=\"black\" points=\"1336.81,-131 1346.81,-127.5 1336.81,-124 1336.81,-131\"/>\n</g>\n<!-- 132103016096208 -->\n<g id=\"node3\" class=\"node\">\n<title>132103016096208</title>\n<polygon fill=\"none\" stroke=\"black\" points=\"0,-165.5 0,-201.5 200,-201.5 200,-165.5 0,-165.5\"/>\n<text text-anchor=\"middle\" x=\"16.5\" y=\"-179.8\" font-family=\"Times,serif\" font-size=\"14.00\">w1</text>\n<polyline fill=\"none\" stroke=\"black\" points=\"33,-165.5 33,-201.5 \"/>\n<text text-anchor=\"middle\" x=\"75.5\" y=\"-179.8\" font-family=\"Times,serif\" font-size=\"14.00\">data &#45;3.0000</text>\n<polyline fill=\"none\" stroke=\"black\" points=\"118,-165.5 118,-201.5 \"/>\n<text text-anchor=\"middle\" x=\"159\" y=\"-179.8\" font-family=\"Times,serif\" font-size=\"14.00\">grad 1.0000</text>\n</g>\n<!-- 132102971422480* -->\n<g id=\"node7\" class=\"node\">\n<title>132102971422480*</title>\n<ellipse fill=\"none\" stroke=\"black\" cx=\"263\" cy=\"-128.5\" rx=\"27\" ry=\"18\"/>\n<text text-anchor=\"middle\" x=\"263\" y=\"-124.8\" font-family=\"Times,serif\" font-size=\"14.00\">*</text>\n</g>\n<!-- 132103016096208&#45;&gt;132102971422480* -->\n<g id=\"edge13\" class=\"edge\">\n<title>132103016096208&#45;&gt;132102971422480*</title>\n<path fill=\"none\" stroke=\"black\" d=\"M172.53,-165.44C181.84,-162.67 191.2,-159.67 200,-156.5 210.53,-152.71 221.75,-147.9 231.72,-143.33\"/>\n<polygon fill=\"black\" stroke=\"black\" points=\"233.25,-146.48 240.82,-139.07 230.28,-140.14 233.25,-146.48\"/>\n</g>\n<!-- 132102968318032 -->\n<g id=\"node4\" class=\"node\">\n<title>132102968318032</title>\n<polygon fill=\"none\" stroke=\"black\" points=\"2.5,-55.5 2.5,-91.5 197.5,-91.5 197.5,-55.5 2.5,-55.5\"/>\n<text text-anchor=\"middle\" x=\"19\" y=\"-69.8\" font-family=\"Times,serif\" font-size=\"14.00\">w2</text>\n<polyline fill=\"none\" stroke=\"black\" points=\"35.5,-55.5 35.5,-91.5 \"/>\n<text text-anchor=\"middle\" x=\"75.5\" y=\"-69.8\" font-family=\"Times,serif\" font-size=\"14.00\">data 1.0000</text>\n<polyline fill=\"none\" stroke=\"black\" points=\"115.5,-55.5 115.5,-91.5 \"/>\n<text text-anchor=\"middle\" x=\"156.5\" y=\"-69.8\" font-family=\"Times,serif\" font-size=\"14.00\">grad 0.0000</text>\n</g>\n<!-- 132102980686288* -->\n<g id=\"node13\" class=\"node\">\n<title>132102980686288*</title>\n<ellipse fill=\"none\" stroke=\"black\" cx=\"263\" cy=\"-73.5\" rx=\"27\" ry=\"18\"/>\n<text text-anchor=\"middle\" x=\"263\" y=\"-69.8\" font-family=\"Times,serif\" font-size=\"14.00\">*</text>\n</g>\n<!-- 132102968318032&#45;&gt;132102980686288* -->\n<g id=\"edge14\" class=\"edge\">\n<title>132102968318032&#45;&gt;132102980686288*</title>\n<path fill=\"none\" stroke=\"black\" d=\"M197.91,-73.5C207.65,-73.5 217.05,-73.5 225.52,-73.5\"/>\n<polygon fill=\"black\" stroke=\"black\" points=\"225.7,-77 235.7,-73.5 225.7,-70 225.7,-77\"/>\n</g>\n<!-- 132103016143056 -->\n<g id=\"node5\" class=\"node\">\n<title>132103016143056</title>\n<polygon fill=\"none\" stroke=\"black\" points=\"4,-0.5 4,-36.5 196,-36.5 196,-0.5 4,-0.5\"/>\n<text text-anchor=\"middle\" x=\"19\" y=\"-14.8\" font-family=\"Times,serif\" font-size=\"14.00\">x2</text>\n<polyline fill=\"none\" stroke=\"black\" points=\"34,-0.5 34,-36.5 \"/>\n<text text-anchor=\"middle\" x=\"74\" y=\"-14.8\" font-family=\"Times,serif\" font-size=\"14.00\">data 0.0000</text>\n<polyline fill=\"none\" stroke=\"black\" points=\"114,-0.5 114,-36.5 \"/>\n<text text-anchor=\"middle\" x=\"155\" y=\"-14.8\" font-family=\"Times,serif\" font-size=\"14.00\">grad 0.5000</text>\n</g>\n<!-- 132103016143056&#45;&gt;132102980686288* -->\n<g id=\"edge7\" class=\"edge\">\n<title>132103016143056&#45;&gt;132102980686288*</title>\n<path fill=\"none\" stroke=\"black\" d=\"M169.28,-36.5C179.65,-39.61 190.16,-42.98 200,-46.5 210.28,-50.17 221.28,-54.74 231.11,-59.07\"/>\n<polygon fill=\"black\" stroke=\"black\" points=\"229.93,-62.37 240.48,-63.27 232.79,-55.99 229.93,-62.37\"/>\n</g>\n<!-- 132102971422480 -->\n<g id=\"node6\" class=\"node\">\n<title>132102971422480</title>\n<polygon fill=\"none\" stroke=\"black\" points=\"326,-110.5 326,-146.5 540,-146.5 540,-110.5 326,-110.5\"/>\n<text text-anchor=\"middle\" x=\"349.5\" y=\"-124.8\" font-family=\"Times,serif\" font-size=\"14.00\">x1w1</text>\n<polyline fill=\"none\" stroke=\"black\" points=\"373,-110.5 373,-146.5 \"/>\n<text text-anchor=\"middle\" x=\"415.5\" y=\"-124.8\" font-family=\"Times,serif\" font-size=\"14.00\">data &#45;6.0000</text>\n<polyline fill=\"none\" stroke=\"black\" points=\"458,-110.5 458,-146.5 \"/>\n<text text-anchor=\"middle\" x=\"499\" y=\"-124.8\" font-family=\"Times,serif\" font-size=\"14.00\">grad 0.5000</text>\n</g>\n<!-- 132102980694992+ -->\n<g id=\"node15\" class=\"node\">\n<title>132102980694992+</title>\n<ellipse fill=\"none\" stroke=\"black\" cx=\"603\" cy=\"-100.5\" rx=\"27\" ry=\"18\"/>\n<text text-anchor=\"middle\" x=\"603\" y=\"-96.8\" font-family=\"Times,serif\" font-size=\"14.00\">+</text>\n</g>\n<!-- 132102971422480&#45;&gt;132102980694992+ -->\n<g id=\"edge6\" class=\"edge\">\n<title>132102971422480&#45;&gt;132102980694992+</title>\n<path fill=\"none\" stroke=\"black\" d=\"M540.4,-110.77C549.72,-109.21 558.65,-107.72 566.68,-106.39\"/>\n<polygon fill=\"black\" stroke=\"black\" points=\"567.38,-109.82 576.66,-104.72 566.22,-102.91 567.38,-109.82\"/>\n</g>\n<!-- 132102971422480*&#45;&gt;132102971422480 -->\n<g id=\"edge2\" class=\"edge\">\n<title>132102971422480*&#45;&gt;132102971422480</title>\n<path fill=\"none\" stroke=\"black\" d=\"M290.25,-128.5C297.7,-128.5 306.34,-128.5 315.59,-128.5\"/>\n<polygon fill=\"black\" stroke=\"black\" points=\"315.84,-132 325.84,-128.5 315.84,-125 315.84,-132\"/>\n</g>\n<!-- 132102980685584 -->\n<g id=\"node8\" class=\"node\">\n<title>132102980685584</title>\n<polygon fill=\"none\" stroke=\"black\" points=\"1036,-109.5 1036,-145.5 1221,-145.5 1221,-109.5 1036,-109.5\"/>\n<text text-anchor=\"middle\" x=\"1047.5\" y=\"-123.8\" font-family=\"Times,serif\" font-size=\"14.00\">n</text>\n<polyline fill=\"none\" stroke=\"black\" points=\"1059,-109.5 1059,-145.5 \"/>\n<text text-anchor=\"middle\" x=\"1099\" y=\"-123.8\" font-family=\"Times,serif\" font-size=\"14.00\">data 0.8814</text>\n<polyline fill=\"none\" stroke=\"black\" points=\"1139,-109.5 1139,-145.5 \"/>\n<text text-anchor=\"middle\" x=\"1180\" y=\"-123.8\" font-family=\"Times,serif\" font-size=\"14.00\">grad 0.5000</text>\n</g>\n<!-- 132102980685584&#45;&gt;132102980685840tanh -->\n<g id=\"edge8\" class=\"edge\">\n<title>132102980685584&#45;&gt;132102980685840tanh</title>\n<path fill=\"none\" stroke=\"black\" d=\"M1221.01,-127.5C1230.01,-127.5 1238.74,-127.5 1246.66,-127.5\"/>\n<polygon fill=\"black\" stroke=\"black\" points=\"1246.91,-131 1256.91,-127.5 1246.91,-124 1246.91,-131\"/>\n</g>\n<!-- 132102980685584+ -->\n<g id=\"node9\" class=\"node\">\n<title>132102980685584+</title>\n<ellipse fill=\"none\" stroke=\"black\" cx=\"973\" cy=\"-127.5\" rx=\"27\" ry=\"18\"/>\n<text text-anchor=\"middle\" x=\"973\" y=\"-123.8\" font-family=\"Times,serif\" font-size=\"14.00\">+</text>\n</g>\n<!-- 132102980685584+&#45;&gt;132102980685584 -->\n<g id=\"edge3\" class=\"edge\">\n<title>132102980685584+&#45;&gt;132102980685584</title>\n<path fill=\"none\" stroke=\"black\" d=\"M1000.04,-127.5C1007.58,-127.5 1016.3,-127.5 1025.57,-127.5\"/>\n<polygon fill=\"black\" stroke=\"black\" points=\"1025.81,-131 1035.81,-127.5 1025.81,-124 1025.81,-131\"/>\n</g>\n<!-- 132103016015632 -->\n<g id=\"node10\" class=\"node\">\n<title>132103016015632</title>\n<polygon fill=\"none\" stroke=\"black\" points=\"2,-110.5 2,-146.5 198,-146.5 198,-110.5 2,-110.5\"/>\n<text text-anchor=\"middle\" x=\"17\" y=\"-124.8\" font-family=\"Times,serif\" font-size=\"14.00\">x1</text>\n<polyline fill=\"none\" stroke=\"black\" points=\"32,-110.5 32,-146.5 \"/>\n<text text-anchor=\"middle\" x=\"72\" y=\"-124.8\" font-family=\"Times,serif\" font-size=\"14.00\">data 2.0000</text>\n<polyline fill=\"none\" stroke=\"black\" points=\"112,-110.5 112,-146.5 \"/>\n<text text-anchor=\"middle\" x=\"155\" y=\"-124.8\" font-family=\"Times,serif\" font-size=\"14.00\">grad &#45;1.5000</text>\n</g>\n<!-- 132103016015632&#45;&gt;132102971422480* -->\n<g id=\"edge9\" class=\"edge\">\n<title>132103016015632&#45;&gt;132102971422480*</title>\n<path fill=\"none\" stroke=\"black\" d=\"M198.37,-128.5C208.05,-128.5 217.4,-128.5 225.8,-128.5\"/>\n<polygon fill=\"black\" stroke=\"black\" points=\"225.91,-132 235.91,-128.5 225.91,-125 225.91,-132\"/>\n</g>\n<!-- 132102968320912 -->\n<g id=\"node11\" class=\"node\">\n<title>132102968320912</title>\n<polygon fill=\"none\" stroke=\"black\" points=\"695.5,-137.5 695.5,-173.5 880.5,-173.5 880.5,-137.5 695.5,-137.5\"/>\n<text text-anchor=\"middle\" x=\"707\" y=\"-151.8\" font-family=\"Times,serif\" font-size=\"14.00\">b</text>\n<polyline fill=\"none\" stroke=\"black\" points=\"718.5,-137.5 718.5,-173.5 \"/>\n<text text-anchor=\"middle\" x=\"758.5\" y=\"-151.8\" font-family=\"Times,serif\" font-size=\"14.00\">data 6.8814</text>\n<polyline fill=\"none\" stroke=\"black\" points=\"798.5,-137.5 798.5,-173.5 \"/>\n<text text-anchor=\"middle\" x=\"839.5\" y=\"-151.8\" font-family=\"Times,serif\" font-size=\"14.00\">grad 0.5000</text>\n</g>\n<!-- 132102968320912&#45;&gt;132102980685584+ -->\n<g id=\"edge10\" class=\"edge\">\n<title>132102968320912&#45;&gt;132102980685584+</title>\n<path fill=\"none\" stroke=\"black\" d=\"M880.77,-141.46C900.52,-138.44 920.26,-135.42 936.29,-132.96\"/>\n<polygon fill=\"black\" stroke=\"black\" points=\"936.9,-136.41 946.26,-131.44 935.85,-129.49 936.9,-136.41\"/>\n</g>\n<!-- 132102980686288 -->\n<g id=\"node12\" class=\"node\">\n<title>132102980686288</title>\n<polygon fill=\"none\" stroke=\"black\" points=\"328.5,-55.5 328.5,-91.5 537.5,-91.5 537.5,-55.5 328.5,-55.5\"/>\n<text text-anchor=\"middle\" x=\"352\" y=\"-69.8\" font-family=\"Times,serif\" font-size=\"14.00\">x2w2</text>\n<polyline fill=\"none\" stroke=\"black\" points=\"375.5,-55.5 375.5,-91.5 \"/>\n<text text-anchor=\"middle\" x=\"415.5\" y=\"-69.8\" font-family=\"Times,serif\" font-size=\"14.00\">data 0.0000</text>\n<polyline fill=\"none\" stroke=\"black\" points=\"455.5,-55.5 455.5,-91.5 \"/>\n<text text-anchor=\"middle\" x=\"496.5\" y=\"-69.8\" font-family=\"Times,serif\" font-size=\"14.00\">grad 0.5000</text>\n</g>\n<!-- 132102980686288&#45;&gt;132102980694992+ -->\n<g id=\"edge12\" class=\"edge\">\n<title>132102980686288&#45;&gt;132102980694992+</title>\n<path fill=\"none\" stroke=\"black\" d=\"M537.53,-90.14C547.8,-91.79 557.66,-93.37 566.45,-94.79\"/>\n<polygon fill=\"black\" stroke=\"black\" points=\"566.16,-98.28 576.59,-96.42 567.27,-91.37 566.16,-98.28\"/>\n</g>\n<!-- 132102980686288*&#45;&gt;132102980686288 -->\n<g id=\"edge4\" class=\"edge\">\n<title>132102980686288*&#45;&gt;132102980686288</title>\n<path fill=\"none\" stroke=\"black\" d=\"M290.25,-73.5C298.43,-73.5 308.03,-73.5 318.31,-73.5\"/>\n<polygon fill=\"black\" stroke=\"black\" points=\"318.35,-77 328.35,-73.5 318.35,-70 318.35,-77\"/>\n</g>\n<!-- 132102980694992 -->\n<g id=\"node14\" class=\"node\">\n<title>132102980694992</title>\n<polygon fill=\"none\" stroke=\"black\" points=\"666,-82.5 666,-118.5 910,-118.5 910,-82.5 666,-82.5\"/>\n<text text-anchor=\"middle\" x=\"704.5\" y=\"-96.8\" font-family=\"Times,serif\" font-size=\"14.00\">x1w1x2w2</text>\n<polyline fill=\"none\" stroke=\"black\" points=\"743,-82.5 743,-118.5 \"/>\n<text text-anchor=\"middle\" x=\"785.5\" y=\"-96.8\" font-family=\"Times,serif\" font-size=\"14.00\">data &#45;6.0000</text>\n<polyline fill=\"none\" stroke=\"black\" points=\"828,-82.5 828,-118.5 \"/>\n<text text-anchor=\"middle\" x=\"869\" y=\"-96.8\" font-family=\"Times,serif\" font-size=\"14.00\">grad 0.5000</text>\n</g>\n<!-- 132102980694992&#45;&gt;132102980685584+ -->\n<g id=\"edge11\" class=\"edge\">\n<title>132102980694992&#45;&gt;132102980685584+</title>\n<path fill=\"none\" stroke=\"black\" d=\"M910.04,-118.36C919.47,-119.75 928.43,-121.07 936.46,-122.26\"/>\n<polygon fill=\"black\" stroke=\"black\" points=\"936.03,-125.73 946.43,-123.73 937.05,-118.81 936.03,-125.73\"/>\n</g>\n<!-- 132102980694992+&#45;&gt;132102980694992 -->\n<g id=\"edge5\" class=\"edge\">\n<title>132102980694992+&#45;&gt;132102980694992</title>\n<path fill=\"none\" stroke=\"black\" d=\"M630.22,-100.5C637.7,-100.5 646.4,-100.5 655.79,-100.5\"/>\n<polygon fill=\"black\" stroke=\"black\" points=\"655.8,-104 665.8,-100.5 655.8,-97 655.8,-104\"/>\n</g>\n</g>\n</svg>\n",
            "text/plain": [
              "<graphviz.graphs.Digraph at 0x78259f0a9010>"
            ]
          },
          "metadata": {},
          "execution_count": 122
        }
      ]
    },
    {
      "cell_type": "code",
      "source": [
        "x1 = Value(2.0, label = 'x1')\n",
        "x2 = Value(0.0, label = 'x2')\n",
        "\n",
        "w1 = Value(-3.0, label = 'w1')\n",
        "w2 = Value(1.0, label = 'w2')\n",
        "\n",
        "b = Value(6.8813735870195432, label = 'b')\n",
        "\n",
        "x1w1 = x1*w1; x1w1.label = 'x1w1'\n",
        "x2w2 = x2*w2; x2w2.label = 'x2w2'\n",
        "\n",
        "x1w1x2w2 = x1w1 + x2w2; x1w1x2w2.label = 'x1w1x2w2'\n",
        "n = x1w1x2w2 + b; n.label = 'n'\n",
        "# ---\n",
        "e = (2*n).exp(); e.label = 'e'\n",
        "o = (e-1)/(e+1);  o.label = 'o'\n",
        "o.backward()"
      ],
      "metadata": {
        "id": "SXBklWHmtfl0"
      },
      "execution_count": 147,
      "outputs": []
    },
    {
      "cell_type": "code",
      "source": [
        "draw_dot(o)"
      ],
      "metadata": {
        "colab": {
          "base_uri": "https://localhost:8080/",
          "height": 322
        },
        "id": "bvkQp39stjZH",
        "outputId": "cdc230ce-ccf5-4f19-99b9-965ede2fe9ca"
      },
      "execution_count": 148,
      "outputs": [
        {
          "output_type": "execute_result",
          "data": {
            "image/svg+xml": "<?xml version=\"1.0\" encoding=\"UTF-8\" standalone=\"no\"?>\n<!DOCTYPE svg PUBLIC \"-//W3C//DTD SVG 1.1//EN\"\n \"http://www.w3.org/Graphics/SVG/1.1/DTD/svg11.dtd\">\n<!-- Generated by graphviz version 2.43.0 (0)\n -->\n<!-- Title: %3 Pages: 1 -->\n<svg width=\"2909pt\" height=\"210pt\"\n viewBox=\"0.00 0.00 2909.00 210.00\" xmlns=\"http://www.w3.org/2000/svg\" xmlns:xlink=\"http://www.w3.org/1999/xlink\">\n<g id=\"graph0\" class=\"graph\" transform=\"scale(1 1) rotate(0) translate(4 206)\">\n<title>%3</title>\n<polygon fill=\"white\" stroke=\"transparent\" points=\"-4,4 -4,-206 2905,-206 2905,4 -4,4\"/>\n<!-- 132102970970640 -->\n<g id=\"node1\" class=\"node\">\n<title>132102970970640</title>\n<polygon fill=\"none\" stroke=\"black\" points=\"2716,-80.5 2716,-116.5 2901,-116.5 2901,-80.5 2716,-80.5\"/>\n<text text-anchor=\"middle\" x=\"2727.5\" y=\"-94.8\" font-family=\"Times,serif\" font-size=\"14.00\">o</text>\n<polyline fill=\"none\" stroke=\"black\" points=\"2739,-80.5 2739,-116.5 \"/>\n<text text-anchor=\"middle\" x=\"2779\" y=\"-94.8\" font-family=\"Times,serif\" font-size=\"14.00\">data 0.7071</text>\n<polyline fill=\"none\" stroke=\"black\" points=\"2819,-80.5 2819,-116.5 \"/>\n<text text-anchor=\"middle\" x=\"2860\" y=\"-94.8\" font-family=\"Times,serif\" font-size=\"14.00\">grad 1.0000</text>\n</g>\n<!-- 132102970970640* -->\n<g id=\"node2\" class=\"node\">\n<title>132102970970640*</title>\n<ellipse fill=\"none\" stroke=\"black\" cx=\"2653\" cy=\"-98.5\" rx=\"27\" ry=\"18\"/>\n<text text-anchor=\"middle\" x=\"2653\" y=\"-94.8\" font-family=\"Times,serif\" font-size=\"14.00\">*</text>\n</g>\n<!-- 132102970970640*&#45;&gt;132102970970640 -->\n<g id=\"edge1\" class=\"edge\">\n<title>132102970970640*&#45;&gt;132102970970640</title>\n<path fill=\"none\" stroke=\"black\" d=\"M2680.04,-98.5C2687.58,-98.5 2696.3,-98.5 2705.57,-98.5\"/>\n<polygon fill=\"black\" stroke=\"black\" points=\"2705.81,-102 2715.81,-98.5 2705.81,-95 2705.81,-102\"/>\n</g>\n<!-- 132102966648336 -->\n<g id=\"node3\" class=\"node\">\n<title>132102966648336</title>\n<polygon fill=\"none\" stroke=\"black\" points=\"1037.5,-109.5 1037.5,-145.5 1219.5,-145.5 1219.5,-109.5 1037.5,-109.5\"/>\n<text text-anchor=\"middle\" x=\"1047.5\" y=\"-123.8\" font-family=\"Times,serif\" font-size=\"14.00\"> </text>\n<polyline fill=\"none\" stroke=\"black\" points=\"1057.5,-109.5 1057.5,-145.5 \"/>\n<text text-anchor=\"middle\" x=\"1097.5\" y=\"-123.8\" font-family=\"Times,serif\" font-size=\"14.00\">data 2.0000</text>\n<polyline fill=\"none\" stroke=\"black\" points=\"1137.5,-109.5 1137.5,-145.5 \"/>\n<text text-anchor=\"middle\" x=\"1178.5\" y=\"-123.8\" font-family=\"Times,serif\" font-size=\"14.00\">grad 0.2203</text>\n</g>\n<!-- 132102966651856* -->\n<g id=\"node28\" class=\"node\">\n<title>132102966651856*</title>\n<ellipse fill=\"none\" stroke=\"black\" cx=\"1284\" cy=\"-99.5\" rx=\"27\" ry=\"18\"/>\n<text text-anchor=\"middle\" x=\"1284\" y=\"-95.8\" font-family=\"Times,serif\" font-size=\"14.00\">*</text>\n</g>\n<!-- 132102966648336&#45;&gt;132102966651856* -->\n<g id=\"edge18\" class=\"edge\">\n<title>132102966648336&#45;&gt;132102966651856*</title>\n<path fill=\"none\" stroke=\"black\" d=\"M1219.68,-111.05C1229.61,-109.24 1239.23,-107.48 1247.84,-105.91\"/>\n<polygon fill=\"black\" stroke=\"black\" points=\"1248.6,-109.33 1257.81,-104.09 1247.35,-102.45 1248.6,-109.33\"/>\n</g>\n<!-- 132102966643728 -->\n<g id=\"node4\" class=\"node\">\n<title>132102966643728</title>\n<polygon fill=\"none\" stroke=\"black\" points=\"666,-82.5 666,-118.5 910,-118.5 910,-82.5 666,-82.5\"/>\n<text text-anchor=\"middle\" x=\"704.5\" y=\"-96.8\" font-family=\"Times,serif\" font-size=\"14.00\">x1w1x2w2</text>\n<polyline fill=\"none\" stroke=\"black\" points=\"743,-82.5 743,-118.5 \"/>\n<text text-anchor=\"middle\" x=\"785.5\" y=\"-96.8\" font-family=\"Times,serif\" font-size=\"14.00\">data &#45;6.0000</text>\n<polyline fill=\"none\" stroke=\"black\" points=\"828,-82.5 828,-118.5 \"/>\n<text text-anchor=\"middle\" x=\"869\" y=\"-96.8\" font-family=\"Times,serif\" font-size=\"14.00\">grad 0.5000</text>\n</g>\n<!-- 132102966642000+ -->\n<g id=\"node23\" class=\"node\">\n<title>132102966642000+</title>\n<ellipse fill=\"none\" stroke=\"black\" cx=\"973\" cy=\"-72.5\" rx=\"27\" ry=\"18\"/>\n<text text-anchor=\"middle\" x=\"973\" y=\"-68.8\" font-family=\"Times,serif\" font-size=\"14.00\">+</text>\n</g>\n<!-- 132102966643728&#45;&gt;132102966642000+ -->\n<g id=\"edge21\" class=\"edge\">\n<title>132102966643728&#45;&gt;132102966642000+</title>\n<path fill=\"none\" stroke=\"black\" d=\"M906.71,-82.49C917.38,-80.86 927.53,-79.3 936.51,-77.93\"/>\n<polygon fill=\"black\" stroke=\"black\" points=\"937.13,-81.38 946.48,-76.4 936.07,-74.46 937.13,-81.38\"/>\n</g>\n<!-- 132102966643728+ -->\n<g id=\"node5\" class=\"node\">\n<title>132102966643728+</title>\n<ellipse fill=\"none\" stroke=\"black\" cx=\"603\" cy=\"-100.5\" rx=\"27\" ry=\"18\"/>\n<text text-anchor=\"middle\" x=\"603\" y=\"-96.8\" font-family=\"Times,serif\" font-size=\"14.00\">+</text>\n</g>\n<!-- 132102966643728+&#45;&gt;132102966643728 -->\n<g id=\"edge2\" class=\"edge\">\n<title>132102966643728+&#45;&gt;132102966643728</title>\n<path fill=\"none\" stroke=\"black\" d=\"M630.22,-100.5C637.7,-100.5 646.4,-100.5 655.79,-100.5\"/>\n<polygon fill=\"black\" stroke=\"black\" points=\"655.8,-104 665.8,-100.5 655.8,-97 655.8,-104\"/>\n</g>\n<!-- 132102966656016 -->\n<g id=\"node6\" class=\"node\">\n<title>132102966656016</title>\n<polygon fill=\"none\" stroke=\"black\" points=\"326,-110.5 326,-146.5 540,-146.5 540,-110.5 326,-110.5\"/>\n<text text-anchor=\"middle\" x=\"349.5\" y=\"-124.8\" font-family=\"Times,serif\" font-size=\"14.00\">x1w1</text>\n<polyline fill=\"none\" stroke=\"black\" points=\"373,-110.5 373,-146.5 \"/>\n<text text-anchor=\"middle\" x=\"415.5\" y=\"-124.8\" font-family=\"Times,serif\" font-size=\"14.00\">data &#45;6.0000</text>\n<polyline fill=\"none\" stroke=\"black\" points=\"458,-110.5 458,-146.5 \"/>\n<text text-anchor=\"middle\" x=\"499\" y=\"-124.8\" font-family=\"Times,serif\" font-size=\"14.00\">grad 0.5000</text>\n</g>\n<!-- 132102966656016&#45;&gt;132102966643728+ -->\n<g id=\"edge22\" class=\"edge\">\n<title>132102966656016&#45;&gt;132102966643728+</title>\n<path fill=\"none\" stroke=\"black\" d=\"M540.4,-110.77C549.72,-109.21 558.65,-107.72 566.68,-106.39\"/>\n<polygon fill=\"black\" stroke=\"black\" points=\"567.38,-109.82 576.66,-104.72 566.22,-102.91 567.38,-109.82\"/>\n</g>\n<!-- 132102966656016* -->\n<g id=\"node7\" class=\"node\">\n<title>132102966656016*</title>\n<ellipse fill=\"none\" stroke=\"black\" cx=\"263\" cy=\"-128.5\" rx=\"27\" ry=\"18\"/>\n<text text-anchor=\"middle\" x=\"263\" y=\"-124.8\" font-family=\"Times,serif\" font-size=\"14.00\">*</text>\n</g>\n<!-- 132102966656016*&#45;&gt;132102966656016 -->\n<g id=\"edge3\" class=\"edge\">\n<title>132102966656016*&#45;&gt;132102966656016</title>\n<path fill=\"none\" stroke=\"black\" d=\"M290.25,-128.5C297.7,-128.5 306.34,-128.5 315.59,-128.5\"/>\n<polygon fill=\"black\" stroke=\"black\" points=\"315.84,-132 325.84,-128.5 315.84,-125 315.84,-132\"/>\n</g>\n<!-- 132102966653968 -->\n<g id=\"node8\" class=\"node\">\n<title>132102966653968</title>\n<polygon fill=\"none\" stroke=\"black\" points=\"0,-165.5 0,-201.5 200,-201.5 200,-165.5 0,-165.5\"/>\n<text text-anchor=\"middle\" x=\"16.5\" y=\"-179.8\" font-family=\"Times,serif\" font-size=\"14.00\">w1</text>\n<polyline fill=\"none\" stroke=\"black\" points=\"33,-165.5 33,-201.5 \"/>\n<text text-anchor=\"middle\" x=\"75.5\" y=\"-179.8\" font-family=\"Times,serif\" font-size=\"14.00\">data &#45;3.0000</text>\n<polyline fill=\"none\" stroke=\"black\" points=\"118,-165.5 118,-201.5 \"/>\n<text text-anchor=\"middle\" x=\"159\" y=\"-179.8\" font-family=\"Times,serif\" font-size=\"14.00\">grad 1.0000</text>\n</g>\n<!-- 132102966653968&#45;&gt;132102966656016* -->\n<g id=\"edge12\" class=\"edge\">\n<title>132102966653968&#45;&gt;132102966656016*</title>\n<path fill=\"none\" stroke=\"black\" d=\"M172.53,-165.44C181.84,-162.67 191.2,-159.67 200,-156.5 210.53,-152.71 221.75,-147.9 231.72,-143.33\"/>\n<polygon fill=\"black\" stroke=\"black\" points=\"233.25,-146.48 240.82,-139.07 230.28,-140.14 233.25,-146.48\"/>\n</g>\n<!-- 132102966649872 -->\n<g id=\"node9\" class=\"node\">\n<title>132102966649872</title>\n<polygon fill=\"none\" stroke=\"black\" points=\"2,-110.5 2,-146.5 198,-146.5 198,-110.5 2,-110.5\"/>\n<text text-anchor=\"middle\" x=\"17\" y=\"-124.8\" font-family=\"Times,serif\" font-size=\"14.00\">x1</text>\n<polyline fill=\"none\" stroke=\"black\" points=\"32,-110.5 32,-146.5 \"/>\n<text text-anchor=\"middle\" x=\"72\" y=\"-124.8\" font-family=\"Times,serif\" font-size=\"14.00\">data 2.0000</text>\n<polyline fill=\"none\" stroke=\"black\" points=\"112,-110.5 112,-146.5 \"/>\n<text text-anchor=\"middle\" x=\"155\" y=\"-124.8\" font-family=\"Times,serif\" font-size=\"14.00\">grad &#45;1.5000</text>\n</g>\n<!-- 132102966649872&#45;&gt;132102966656016* -->\n<g id=\"edge28\" class=\"edge\">\n<title>132102966649872&#45;&gt;132102966656016*</title>\n<path fill=\"none\" stroke=\"black\" d=\"M198.37,-128.5C208.05,-128.5 217.4,-128.5 225.8,-128.5\"/>\n<polygon fill=\"black\" stroke=\"black\" points=\"225.91,-132 235.91,-128.5 225.91,-125 225.91,-132\"/>\n</g>\n<!-- 132102966650896 -->\n<g id=\"node10\" class=\"node\">\n<title>132102966650896</title>\n<polygon fill=\"none\" stroke=\"black\" points=\"2.5,-55.5 2.5,-91.5 197.5,-91.5 197.5,-55.5 2.5,-55.5\"/>\n<text text-anchor=\"middle\" x=\"19\" y=\"-69.8\" font-family=\"Times,serif\" font-size=\"14.00\">w2</text>\n<polyline fill=\"none\" stroke=\"black\" points=\"35.5,-55.5 35.5,-91.5 \"/>\n<text text-anchor=\"middle\" x=\"75.5\" y=\"-69.8\" font-family=\"Times,serif\" font-size=\"14.00\">data 1.0000</text>\n<polyline fill=\"none\" stroke=\"black\" points=\"115.5,-55.5 115.5,-91.5 \"/>\n<text text-anchor=\"middle\" x=\"156.5\" y=\"-69.8\" font-family=\"Times,serif\" font-size=\"14.00\">grad 0.0000</text>\n</g>\n<!-- 132102966647696* -->\n<g id=\"node17\" class=\"node\">\n<title>132102966647696*</title>\n<ellipse fill=\"none\" stroke=\"black\" cx=\"263\" cy=\"-73.5\" rx=\"27\" ry=\"18\"/>\n<text text-anchor=\"middle\" x=\"263\" y=\"-69.8\" font-family=\"Times,serif\" font-size=\"14.00\">*</text>\n</g>\n<!-- 132102966650896&#45;&gt;132102966647696* -->\n<g id=\"edge24\" class=\"edge\">\n<title>132102966650896&#45;&gt;132102966647696*</title>\n<path fill=\"none\" stroke=\"black\" d=\"M197.91,-73.5C207.65,-73.5 217.05,-73.5 225.52,-73.5\"/>\n<polygon fill=\"black\" stroke=\"black\" points=\"225.7,-77 235.7,-73.5 225.7,-70 225.7,-77\"/>\n</g>\n<!-- 132102966640720 -->\n<g id=\"node11\" class=\"node\">\n<title>132102966640720</title>\n<polygon fill=\"none\" stroke=\"black\" points=\"4,-0.5 4,-36.5 196,-36.5 196,-0.5 4,-0.5\"/>\n<text text-anchor=\"middle\" x=\"19\" y=\"-14.8\" font-family=\"Times,serif\" font-size=\"14.00\">x2</text>\n<polyline fill=\"none\" stroke=\"black\" points=\"34,-0.5 34,-36.5 \"/>\n<text text-anchor=\"middle\" x=\"74\" y=\"-14.8\" font-family=\"Times,serif\" font-size=\"14.00\">data 0.0000</text>\n<polyline fill=\"none\" stroke=\"black\" points=\"114,-0.5 114,-36.5 \"/>\n<text text-anchor=\"middle\" x=\"155\" y=\"-14.8\" font-family=\"Times,serif\" font-size=\"14.00\">grad 0.5000</text>\n</g>\n<!-- 132102966640720&#45;&gt;132102966647696* -->\n<g id=\"edge23\" class=\"edge\">\n<title>132102966640720&#45;&gt;132102966647696*</title>\n<path fill=\"none\" stroke=\"black\" d=\"M172.53,-36.56C181.84,-39.33 191.2,-42.33 200,-45.5 210.53,-49.29 221.75,-54.1 231.72,-58.67\"/>\n<polygon fill=\"black\" stroke=\"black\" points=\"230.28,-61.86 240.82,-62.93 233.25,-55.52 230.28,-61.86\"/>\n</g>\n<!-- 132102970967696 -->\n<g id=\"node12\" class=\"node\">\n<title>132102970967696</title>\n<polygon fill=\"none\" stroke=\"black\" points=\"1968,-108.5 1968,-144.5 2154,-144.5 2154,-108.5 1968,-108.5\"/>\n<text text-anchor=\"middle\" x=\"1978\" y=\"-122.8\" font-family=\"Times,serif\" font-size=\"14.00\"> </text>\n<polyline fill=\"none\" stroke=\"black\" points=\"1988,-108.5 1988,-144.5 \"/>\n<text text-anchor=\"middle\" x=\"2028\" y=\"-122.8\" font-family=\"Times,serif\" font-size=\"14.00\">data 6.8284</text>\n<polyline fill=\"none\" stroke=\"black\" points=\"2068,-108.5 2068,-144.5 \"/>\n<text text-anchor=\"middle\" x=\"2111\" y=\"-122.8\" font-family=\"Times,serif\" font-size=\"14.00\">grad &#45;0.1036</text>\n</g>\n<!-- 132102970977168**&#45;1 -->\n<g id=\"node26\" class=\"node\">\n<title>132102970977168**&#45;1</title>\n<ellipse fill=\"none\" stroke=\"black\" cx=\"2281\" cy=\"-126.5\" rx=\"27\" ry=\"18\"/>\n<text text-anchor=\"middle\" x=\"2281\" y=\"-122.8\" font-family=\"Times,serif\" font-size=\"14.00\">**&#45;1</text>\n</g>\n<!-- 132102970967696&#45;&gt;132102970977168**&#45;1 -->\n<g id=\"edge16\" class=\"edge\">\n<title>132102970967696&#45;&gt;132102970977168**&#45;1</title>\n<path fill=\"none\" stroke=\"black\" d=\"M2154.14,-126.5C2185.72,-126.5 2219.24,-126.5 2243.74,-126.5\"/>\n<polygon fill=\"black\" stroke=\"black\" points=\"2243.98,-130 2253.98,-126.5 2243.98,-123 2243.98,-130\"/>\n</g>\n<!-- 132102970967696+ -->\n<g id=\"node13\" class=\"node\">\n<title>132102970967696+</title>\n<ellipse fill=\"none\" stroke=\"black\" cx=\"1905\" cy=\"-126.5\" rx=\"27\" ry=\"18\"/>\n<text text-anchor=\"middle\" x=\"1905\" y=\"-122.8\" font-family=\"Times,serif\" font-size=\"14.00\">+</text>\n</g>\n<!-- 132102970967696+&#45;&gt;132102970967696 -->\n<g id=\"edge4\" class=\"edge\">\n<title>132102970967696+&#45;&gt;132102970967696</title>\n<path fill=\"none\" stroke=\"black\" d=\"M1932.12,-126.5C1939.62,-126.5 1948.29,-126.5 1957.5,-126.5\"/>\n<polygon fill=\"black\" stroke=\"black\" points=\"1957.69,-130 1967.69,-126.5 1957.69,-123 1957.69,-130\"/>\n</g>\n<!-- 132102970977744 -->\n<g id=\"node14\" class=\"node\">\n<title>132102970977744</title>\n<polygon fill=\"none\" stroke=\"black\" points=\"2190,-53.5 2190,-89.5 2372,-89.5 2372,-53.5 2190,-53.5\"/>\n<text text-anchor=\"middle\" x=\"2200\" y=\"-67.8\" font-family=\"Times,serif\" font-size=\"14.00\"> </text>\n<polyline fill=\"none\" stroke=\"black\" points=\"2210,-53.5 2210,-89.5 \"/>\n<text text-anchor=\"middle\" x=\"2250\" y=\"-67.8\" font-family=\"Times,serif\" font-size=\"14.00\">data 4.8284</text>\n<polyline fill=\"none\" stroke=\"black\" points=\"2290,-53.5 2290,-89.5 \"/>\n<text text-anchor=\"middle\" x=\"2331\" y=\"-67.8\" font-family=\"Times,serif\" font-size=\"14.00\">grad 0.1464</text>\n</g>\n<!-- 132102970977744&#45;&gt;132102970970640* -->\n<g id=\"edge17\" class=\"edge\">\n<title>132102970977744&#45;&gt;132102970970640*</title>\n<path fill=\"none\" stroke=\"black\" d=\"M2372.04,-78.07C2450.41,-83.79 2559.98,-91.79 2615.96,-95.87\"/>\n<polygon fill=\"black\" stroke=\"black\" points=\"2615.87,-99.37 2626.1,-96.61 2616.38,-92.39 2615.87,-99.37\"/>\n</g>\n<!-- 132102970977744+ -->\n<g id=\"node15\" class=\"node\">\n<title>132102970977744+</title>\n<ellipse fill=\"none\" stroke=\"black\" cx=\"1905\" cy=\"-71.5\" rx=\"27\" ry=\"18\"/>\n<text text-anchor=\"middle\" x=\"1905\" y=\"-67.8\" font-family=\"Times,serif\" font-size=\"14.00\">+</text>\n</g>\n<!-- 132102970977744+&#45;&gt;132102970977744 -->\n<g id=\"edge5\" class=\"edge\">\n<title>132102970977744+&#45;&gt;132102970977744</title>\n<path fill=\"none\" stroke=\"black\" d=\"M1932,-71.5C1982.46,-71.5 2096.06,-71.5 2179.81,-71.5\"/>\n<polygon fill=\"black\" stroke=\"black\" points=\"2179.87,-75 2189.87,-71.5 2179.87,-68 2179.87,-75\"/>\n</g>\n<!-- 132102966647696 -->\n<g id=\"node16\" class=\"node\">\n<title>132102966647696</title>\n<polygon fill=\"none\" stroke=\"black\" points=\"328.5,-55.5 328.5,-91.5 537.5,-91.5 537.5,-55.5 328.5,-55.5\"/>\n<text text-anchor=\"middle\" x=\"352\" y=\"-69.8\" font-family=\"Times,serif\" font-size=\"14.00\">x2w2</text>\n<polyline fill=\"none\" stroke=\"black\" points=\"375.5,-55.5 375.5,-91.5 \"/>\n<text text-anchor=\"middle\" x=\"415.5\" y=\"-69.8\" font-family=\"Times,serif\" font-size=\"14.00\">data 0.0000</text>\n<polyline fill=\"none\" stroke=\"black\" points=\"455.5,-55.5 455.5,-91.5 \"/>\n<text text-anchor=\"middle\" x=\"496.5\" y=\"-69.8\" font-family=\"Times,serif\" font-size=\"14.00\">grad 0.5000</text>\n</g>\n<!-- 132102966647696&#45;&gt;132102966643728+ -->\n<g id=\"edge13\" class=\"edge\">\n<title>132102966647696&#45;&gt;132102966643728+</title>\n<path fill=\"none\" stroke=\"black\" d=\"M537.53,-90.14C547.8,-91.79 557.66,-93.37 566.45,-94.79\"/>\n<polygon fill=\"black\" stroke=\"black\" points=\"566.16,-98.28 576.59,-96.42 567.27,-91.37 566.16,-98.28\"/>\n</g>\n<!-- 132102966647696*&#45;&gt;132102966647696 -->\n<g id=\"edge6\" class=\"edge\">\n<title>132102966647696*&#45;&gt;132102966647696</title>\n<path fill=\"none\" stroke=\"black\" d=\"M290.25,-73.5C298.43,-73.5 308.03,-73.5 318.31,-73.5\"/>\n<polygon fill=\"black\" stroke=\"black\" points=\"318.35,-77 328.35,-73.5 318.35,-70 318.35,-77\"/>\n</g>\n<!-- 132102977390800 -->\n<g id=\"node18\" class=\"node\">\n<title>132102977390800</title>\n<polygon fill=\"none\" stroke=\"black\" points=\"1656,-81.5 1656,-117.5 1841,-117.5 1841,-81.5 1656,-81.5\"/>\n<text text-anchor=\"middle\" x=\"1667.5\" y=\"-95.8\" font-family=\"Times,serif\" font-size=\"14.00\">e</text>\n<polyline fill=\"none\" stroke=\"black\" points=\"1679,-81.5 1679,-117.5 \"/>\n<text text-anchor=\"middle\" x=\"1719\" y=\"-95.8\" font-family=\"Times,serif\" font-size=\"14.00\">data 5.8284</text>\n<polyline fill=\"none\" stroke=\"black\" points=\"1759,-81.5 1759,-117.5 \"/>\n<text text-anchor=\"middle\" x=\"1800\" y=\"-95.8\" font-family=\"Times,serif\" font-size=\"14.00\">grad 0.0429</text>\n</g>\n<!-- 132102977390800&#45;&gt;132102970967696+ -->\n<g id=\"edge11\" class=\"edge\">\n<title>132102977390800&#45;&gt;132102970967696+</title>\n<path fill=\"none\" stroke=\"black\" d=\"M1841.16,-115.52C1850.84,-117.21 1860.22,-118.85 1868.64,-120.32\"/>\n<polygon fill=\"black\" stroke=\"black\" points=\"1868.29,-123.81 1878.75,-122.09 1869.5,-116.92 1868.29,-123.81\"/>\n</g>\n<!-- 132102977390800&#45;&gt;132102970977744+ -->\n<g id=\"edge27\" class=\"edge\">\n<title>132102977390800&#45;&gt;132102970977744+</title>\n<path fill=\"none\" stroke=\"black\" d=\"M1841.16,-82.89C1850.84,-81.13 1860.22,-79.43 1868.64,-77.91\"/>\n<polygon fill=\"black\" stroke=\"black\" points=\"1869.53,-81.3 1878.75,-76.08 1868.28,-74.42 1869.53,-81.3\"/>\n</g>\n<!-- 132102977390800exp -->\n<g id=\"node19\" class=\"node\">\n<title>132102977390800exp</title>\n<ellipse fill=\"none\" stroke=\"black\" cx=\"1592\" cy=\"-99.5\" rx=\"27\" ry=\"18\"/>\n<text text-anchor=\"middle\" x=\"1592\" y=\"-95.8\" font-family=\"Times,serif\" font-size=\"14.00\">exp</text>\n</g>\n<!-- 132102977390800exp&#45;&gt;132102977390800 -->\n<g id=\"edge7\" class=\"edge\">\n<title>132102977390800exp&#45;&gt;132102977390800</title>\n<path fill=\"none\" stroke=\"black\" d=\"M1619.21,-99.5C1627,-99.5 1636.05,-99.5 1645.67,-99.5\"/>\n<polygon fill=\"black\" stroke=\"black\" points=\"1645.87,-103 1655.87,-99.5 1645.87,-96 1645.87,-103\"/>\n</g>\n<!-- 132102970968336 -->\n<g id=\"node20\" class=\"node\">\n<title>132102970968336</title>\n<polygon fill=\"none\" stroke=\"black\" points=\"1655.5,-136.5 1655.5,-172.5 1841.5,-172.5 1841.5,-136.5 1655.5,-136.5\"/>\n<text text-anchor=\"middle\" x=\"1665.5\" y=\"-150.8\" font-family=\"Times,serif\" font-size=\"14.00\"> </text>\n<polyline fill=\"none\" stroke=\"black\" points=\"1675.5,-136.5 1675.5,-172.5 \"/>\n<text text-anchor=\"middle\" x=\"1715.5\" y=\"-150.8\" font-family=\"Times,serif\" font-size=\"14.00\">data 1.0000</text>\n<polyline fill=\"none\" stroke=\"black\" points=\"1755.5,-136.5 1755.5,-172.5 \"/>\n<text text-anchor=\"middle\" x=\"1798.5\" y=\"-150.8\" font-family=\"Times,serif\" font-size=\"14.00\">grad &#45;0.1036</text>\n</g>\n<!-- 132102970968336&#45;&gt;132102970967696+ -->\n<g id=\"edge19\" class=\"edge\">\n<title>132102970968336&#45;&gt;132102970967696+</title>\n<path fill=\"none\" stroke=\"black\" d=\"M1841.6,-137.81C1851.15,-136.08 1860.37,-134.41 1868.68,-132.9\"/>\n<polygon fill=\"black\" stroke=\"black\" points=\"1869.43,-136.32 1878.65,-131.09 1868.18,-129.43 1869.43,-136.32\"/>\n</g>\n<!-- 132102970966288 -->\n<g id=\"node21\" class=\"node\">\n<title>132102970966288</title>\n<polygon fill=\"none\" stroke=\"black\" points=\"1655,-26.5 1655,-62.5 1842,-62.5 1842,-26.5 1655,-26.5\"/>\n<text text-anchor=\"middle\" x=\"1665\" y=\"-40.8\" font-family=\"Times,serif\" font-size=\"14.00\"> </text>\n<polyline fill=\"none\" stroke=\"black\" points=\"1675,-26.5 1675,-62.5 \"/>\n<text text-anchor=\"middle\" x=\"1717.5\" y=\"-40.8\" font-family=\"Times,serif\" font-size=\"14.00\">data &#45;1.0000</text>\n<polyline fill=\"none\" stroke=\"black\" points=\"1760,-26.5 1760,-62.5 \"/>\n<text text-anchor=\"middle\" x=\"1801\" y=\"-40.8\" font-family=\"Times,serif\" font-size=\"14.00\">grad 0.1464</text>\n</g>\n<!-- 132102970966288&#45;&gt;132102970977744+ -->\n<g id=\"edge14\" class=\"edge\">\n<title>132102970966288&#45;&gt;132102970977744+</title>\n<path fill=\"none\" stroke=\"black\" d=\"M1842.05,-60.67C1851.34,-62.3 1860.33,-63.87 1868.44,-65.29\"/>\n<polygon fill=\"black\" stroke=\"black\" points=\"1868.1,-68.78 1878.55,-67.05 1869.3,-61.88 1868.1,-68.78\"/>\n</g>\n<!-- 132102966642000 -->\n<g id=\"node22\" class=\"node\">\n<title>132102966642000</title>\n<polygon fill=\"none\" stroke=\"black\" points=\"1036,-54.5 1036,-90.5 1221,-90.5 1221,-54.5 1036,-54.5\"/>\n<text text-anchor=\"middle\" x=\"1047.5\" y=\"-68.8\" font-family=\"Times,serif\" font-size=\"14.00\">n</text>\n<polyline fill=\"none\" stroke=\"black\" points=\"1059,-54.5 1059,-90.5 \"/>\n<text text-anchor=\"middle\" x=\"1099\" y=\"-68.8\" font-family=\"Times,serif\" font-size=\"14.00\">data 0.8814</text>\n<polyline fill=\"none\" stroke=\"black\" points=\"1139,-54.5 1139,-90.5 \"/>\n<text text-anchor=\"middle\" x=\"1180\" y=\"-68.8\" font-family=\"Times,serif\" font-size=\"14.00\">grad 0.5000</text>\n</g>\n<!-- 132102966642000&#45;&gt;132102966651856* -->\n<g id=\"edge20\" class=\"edge\">\n<title>132102966642000&#45;&gt;132102966651856*</title>\n<path fill=\"none\" stroke=\"black\" d=\"M1221.01,-88.6C1230.49,-90.26 1239.66,-91.88 1247.9,-93.33\"/>\n<polygon fill=\"black\" stroke=\"black\" points=\"1247.36,-96.78 1257.81,-95.07 1248.57,-89.89 1247.36,-96.78\"/>\n</g>\n<!-- 132102966642000+&#45;&gt;132102966642000 -->\n<g id=\"edge8\" class=\"edge\">\n<title>132102966642000+&#45;&gt;132102966642000</title>\n<path fill=\"none\" stroke=\"black\" d=\"M1000.04,-72.5C1007.58,-72.5 1016.3,-72.5 1025.57,-72.5\"/>\n<polygon fill=\"black\" stroke=\"black\" points=\"1025.81,-76 1035.81,-72.5 1025.81,-69 1025.81,-76\"/>\n</g>\n<!-- 132102966651728 -->\n<g id=\"node24\" class=\"node\">\n<title>132102966651728</title>\n<polygon fill=\"none\" stroke=\"black\" points=\"695.5,-27.5 695.5,-63.5 880.5,-63.5 880.5,-27.5 695.5,-27.5\"/>\n<text text-anchor=\"middle\" x=\"707\" y=\"-41.8\" font-family=\"Times,serif\" font-size=\"14.00\">b</text>\n<polyline fill=\"none\" stroke=\"black\" points=\"718.5,-27.5 718.5,-63.5 \"/>\n<text text-anchor=\"middle\" x=\"758.5\" y=\"-41.8\" font-family=\"Times,serif\" font-size=\"14.00\">data 6.8814</text>\n<polyline fill=\"none\" stroke=\"black\" points=\"798.5,-27.5 798.5,-63.5 \"/>\n<text text-anchor=\"middle\" x=\"839.5\" y=\"-41.8\" font-family=\"Times,serif\" font-size=\"14.00\">grad 0.5000</text>\n</g>\n<!-- 132102966651728&#45;&gt;132102966642000+ -->\n<g id=\"edge25\" class=\"edge\">\n<title>132102966651728&#45;&gt;132102966642000+</title>\n<path fill=\"none\" stroke=\"black\" d=\"M880.77,-59.04C900.52,-61.95 920.26,-64.87 936.29,-67.23\"/>\n<polygon fill=\"black\" stroke=\"black\" points=\"935.86,-70.71 946.26,-68.7 936.88,-63.78 935.86,-70.71\"/>\n</g>\n<!-- 132102970977168 -->\n<g id=\"node25\" class=\"node\">\n<title>132102970977168</title>\n<polygon fill=\"none\" stroke=\"black\" points=\"2408,-106.5 2408,-142.5 2590,-142.5 2590,-106.5 2408,-106.5\"/>\n<text text-anchor=\"middle\" x=\"2418\" y=\"-120.8\" font-family=\"Times,serif\" font-size=\"14.00\"> </text>\n<polyline fill=\"none\" stroke=\"black\" points=\"2428,-106.5 2428,-142.5 \"/>\n<text text-anchor=\"middle\" x=\"2468\" y=\"-120.8\" font-family=\"Times,serif\" font-size=\"14.00\">data 0.1464</text>\n<polyline fill=\"none\" stroke=\"black\" points=\"2508,-106.5 2508,-142.5 \"/>\n<text text-anchor=\"middle\" x=\"2549\" y=\"-120.8\" font-family=\"Times,serif\" font-size=\"14.00\">grad 4.8284</text>\n</g>\n<!-- 132102970977168&#45;&gt;132102970970640* -->\n<g id=\"edge15\" class=\"edge\">\n<title>132102970977168&#45;&gt;132102970970640*</title>\n<path fill=\"none\" stroke=\"black\" d=\"M2590.18,-109.08C2599.42,-107.49 2608.38,-105.96 2616.47,-104.58\"/>\n<polygon fill=\"black\" stroke=\"black\" points=\"2617.29,-107.99 2626.56,-102.85 2616.11,-101.09 2617.29,-107.99\"/>\n</g>\n<!-- 132102970977168**&#45;1&#45;&gt;132102970977168 -->\n<g id=\"edge9\" class=\"edge\">\n<title>132102970977168**&#45;1&#45;&gt;132102970977168</title>\n<path fill=\"none\" stroke=\"black\" d=\"M2308.05,-126.26C2330.53,-126.05 2364.48,-125.74 2397.5,-125.43\"/>\n<polygon fill=\"black\" stroke=\"black\" points=\"2397.74,-128.93 2407.7,-125.34 2397.67,-121.93 2397.74,-128.93\"/>\n</g>\n<!-- 132102966651856 -->\n<g id=\"node27\" class=\"node\">\n<title>132102966651856</title>\n<polygon fill=\"none\" stroke=\"black\" points=\"1347,-81.5 1347,-117.5 1529,-117.5 1529,-81.5 1347,-81.5\"/>\n<text text-anchor=\"middle\" x=\"1357\" y=\"-95.8\" font-family=\"Times,serif\" font-size=\"14.00\"> </text>\n<polyline fill=\"none\" stroke=\"black\" points=\"1367,-81.5 1367,-117.5 \"/>\n<text text-anchor=\"middle\" x=\"1407\" y=\"-95.8\" font-family=\"Times,serif\" font-size=\"14.00\">data 1.7627</text>\n<polyline fill=\"none\" stroke=\"black\" points=\"1447,-81.5 1447,-117.5 \"/>\n<text text-anchor=\"middle\" x=\"1488\" y=\"-95.8\" font-family=\"Times,serif\" font-size=\"14.00\">grad 0.2500</text>\n</g>\n<!-- 132102966651856&#45;&gt;132102977390800exp -->\n<g id=\"edge26\" class=\"edge\">\n<title>132102966651856&#45;&gt;132102977390800exp</title>\n<path fill=\"none\" stroke=\"black\" d=\"M1529.18,-99.5C1538.14,-99.5 1546.83,-99.5 1554.73,-99.5\"/>\n<polygon fill=\"black\" stroke=\"black\" points=\"1554.96,-103 1564.96,-99.5 1554.96,-96 1554.96,-103\"/>\n</g>\n<!-- 132102966651856*&#45;&gt;132102966651856 -->\n<g id=\"edge10\" class=\"edge\">\n<title>132102966651856*&#45;&gt;132102966651856</title>\n<path fill=\"none\" stroke=\"black\" d=\"M1311.13,-99.5C1318.67,-99.5 1327.39,-99.5 1336.64,-99.5\"/>\n<polygon fill=\"black\" stroke=\"black\" points=\"1336.87,-103 1346.87,-99.5 1336.87,-96 1336.87,-103\"/>\n</g>\n</g>\n</svg>\n",
            "text/plain": [
              "<graphviz.graphs.Digraph at 0x78259e9d8450>"
            ]
          },
          "metadata": {},
          "execution_count": 148
        }
      ]
    },
    {
      "cell_type": "code",
      "source": [
        "import random\n",
        "class Neuron:\n",
        "  def __init__(self,nin):\n",
        "    self.w = [Value(random.uniform(-1,1)) for _ in range(nin)]\n",
        "    self.b = Value(random.uniform(-1, 1))\n",
        "  def __call__(self, x):\n",
        "    act = sum((wi*xi for wi, xi in zip(self.w, x)), self.b)\n",
        "    return act.tanh()\n",
        "n = Neuron(2)\n",
        "x = [2.0, 3.0]\n",
        "n(x)"
      ],
      "metadata": {
        "colab": {
          "base_uri": "https://localhost:8080/"
        },
        "id": "MkrpUgVFuCBx",
        "outputId": "ea868c80-0766-4b0c-dd19-d0d999ae43e9"
      },
      "execution_count": 157,
      "outputs": [
        {
          "output_type": "execute_result",
          "data": {
            "text/plain": [
              "Value(data = -0.6620221489141664)"
            ]
          },
          "metadata": {},
          "execution_count": 157
        }
      ]
    },
    {
      "cell_type": "code",
      "source": [],
      "metadata": {
        "id": "jwJr3FGcw6rm"
      },
      "execution_count": 151,
      "outputs": []
    }
  ]
}